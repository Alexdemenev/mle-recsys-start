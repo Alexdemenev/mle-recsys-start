{
 "cells": [
  {
   "cell_type": "markdown",
   "id": "6c9d506c-9c8c-4707-9613-02510f8b4518",
   "metadata": {},
   "source": [
    "# Описание данных"
   ]
  },
  {
   "cell_type": "markdown",
   "id": "a7c572ed-5df4-4ad3-8a20-d691bafeb261",
   "metadata": {},
   "source": [
    "Данные - специально подготовленная выборка из полного набора, описанного здесь: https://mengtingwan.github.io/data/goodreads#datasets с дополнениями из https://www.kaggle.com/datasets/austinreese/goodreads-books:\n",
    "- books: перечень книг (~44 тыс.) из списка https://www.goodreads.com/list/show/1.Best_Books_Ever (совпадение по book id),\n",
    "- interactions: взаимодействие пользователей с книгами\n",
    "\n",
    "Основной массив данных был собран в конце 2017."
   ]
  },
  {
   "cell_type": "markdown",
   "id": "b3589a9a-ce16-4d2e-b581-d75139fc58b3",
   "metadata": {},
   "source": [
    "# Инициализация"
   ]
  },
  {
   "cell_type": "code",
   "execution_count": 1,
   "id": "c6e28b2f-3822-4e27-b576-9bc42b279b32",
   "metadata": {},
   "outputs": [],
   "source": [
    "import logging\n",
    "\n",
    "import matplotlib.pyplot as plt\n",
    "import numpy as np\n",
    "import pandas as pd"
   ]
  },
  {
   "cell_type": "code",
   "execution_count": 2,
   "id": "4e53bc65-3e32-454b-b353-e9b95489c26c",
   "metadata": {},
   "outputs": [],
   "source": [
    "%matplotlib inline\n",
    "%config InlineBackend.figure_format = 'png'\n",
    "%config InlineBackend.figure_format = 'retina'"
   ]
  },
  {
   "cell_type": "markdown",
   "id": "f8e9a344-d270-4cdb-8f45-5661083c9463",
   "metadata": {},
   "source": [
    "Создаём логгер, который удобен для использования в ноутбуке."
   ]
  },
  {
   "cell_type": "markdown",
   "id": "e8b1d982-8795-45c2-b221-6e5a07eaa150",
   "metadata": {},
   "source": [
    "# Load Data"
   ]
  },
  {
   "cell_type": "markdown",
   "id": "b337b175-a36a-48a6-9d8d-68c0a9acd80f",
   "metadata": {},
   "source": [
    "Загружаем данные как они есть, начинаем на них смотреть: какие в них есть сущности, атрибуты, распределения."
   ]
  },
  {
   "cell_type": "code",
   "execution_count": 2,
   "id": "804875c8",
   "metadata": {},
   "outputs": [
    {
     "name": "stdout",
     "output_type": "stream",
     "text": [
      "--2025-06-18 21:32:29--  https://storage.yandexcloud.net/mle-data/goodsread/books.parquet\n",
      "Resolving storage.yandexcloud.net (storage.yandexcloud.net)... 213.180.193.243, 2a02:6b8::1d9\n",
      "Connecting to storage.yandexcloud.net (storage.yandexcloud.net)|213.180.193.243|:443... connected.\n",
      "HTTP request sent, awaiting response... 200 OK\n",
      "Length: 33930590 (32M) [application/x-www-form-urlencoded]\n",
      "Saving to: ‘books.parquet’\n",
      "\n",
      "books.parquet       100%[===================>]  32.36M   135MB/s    in 0.2s    \n",
      "\n",
      "2025-06-18 21:32:29 (135 MB/s) - ‘books.parquet’ saved [33930590/33930590]\n",
      "\n",
      "--2025-06-18 21:32:29--  https://storage.yandexcloud.net/mle-data/goodsread/interactions.parquet\n",
      "Resolving storage.yandexcloud.net (storage.yandexcloud.net)... 213.180.193.243, 2a02:6b8::1d9\n",
      "Connecting to storage.yandexcloud.net (storage.yandexcloud.net)|213.180.193.243|:443... connected.\n",
      "HTTP request sent, awaiting response... 200 OK\n",
      "Length: 150956253 (144M) [application/x-www-form-urlencoded]\n",
      "Saving to: ‘interactions.parquet’\n",
      "\n",
      "interactions.parque 100%[===================>] 143.96M   112MB/s    in 1.3s    \n",
      "\n",
      "2025-06-18 21:32:31 (112 MB/s) - ‘interactions.parquet’ saved [150956253/150956253]\n",
      "\n"
     ]
    }
   ],
   "source": [
    "!wget https://storage.yandexcloud.net/mle-data/goodsread/books.parquet\n",
    "\n",
    "!wget https://storage.yandexcloud.net/mle-data/goodsread/interactions.parquet"
   ]
  },
  {
   "cell_type": "code",
   "execution_count": 4,
   "id": "2765664a-bbab-4dee-baae-ad31c251808a",
   "metadata": {},
   "outputs": [],
   "source": [
    "books = pd.read_parquet(\"books.parquet\")"
   ]
  },
  {
   "cell_type": "code",
   "execution_count": 5,
   "id": "edc94bb6-feda-4ee7-95fb-cece33c79fc9",
   "metadata": {},
   "outputs": [
    {
     "name": "stdout",
     "output_type": "stream",
     "text": [
      "<class 'pandas.core.frame.DataFrame'>\n",
      "Index: 43312 entries, 3 to 2360448\n",
      "Data columns (total 19 columns):\n",
      " #   Column                Non-Null Count  Dtype  \n",
      "---  ------                --------------  -----  \n",
      " 0   book_id               43312 non-null  int64  \n",
      " 1   author                43312 non-null  object \n",
      " 2   title                 43312 non-null  object \n",
      " 3   description           43312 non-null  object \n",
      " 4   genre_and_votes       43312 non-null  object \n",
      " 5   num_pages             37001 non-null  Int64  \n",
      " 6   average_rating        43312 non-null  float64\n",
      " 7   ratings_count         43312 non-null  Int64  \n",
      " 8   text_reviews_count    43312 non-null  int64  \n",
      " 9   publisher             43312 non-null  object \n",
      " 10  publication_year      35891 non-null  Int64  \n",
      " 11  country_code          43312 non-null  object \n",
      " 12  language_code         43312 non-null  object \n",
      " 13  format                43312 non-null  object \n",
      " 14  is_ebook              43312 non-null  bool   \n",
      " 15  isbn                  43312 non-null  object \n",
      " 16  isbn13                43312 non-null  object \n",
      " 17  genre_and_votes_dict  42391 non-null  object \n",
      " 18  genre_and_votes_str   42391 non-null  object \n",
      "dtypes: Int64(3), bool(1), float64(1), int64(2), object(12)\n",
      "memory usage: 6.4+ MB\n"
     ]
    }
   ],
   "source": [
    "books.info()"
   ]
  },
  {
   "cell_type": "markdown",
   "id": "46407f64-2498-4d3d-b887-7ee17f5b6f7b",
   "metadata": {},
   "source": [
    "Пример данных по книгам"
   ]
  },
  {
   "cell_type": "code",
   "execution_count": 6,
   "id": "b97acb5c-49aa-4f93-ab72-ea93c0618567",
   "metadata": {},
   "outputs": [
    {
     "name": "stdout",
     "output_type": "stream",
     "text": [
      "                                             author                                            title  num_pages  average_rating\n",
      "book_id                                                                                                                        \n",
      "69882                 Heinrich Böll, Patrick Bowles                      Billiards at Half-Past Nine        288            3.93\n",
      "267533                               Robert Cormier                                         8 Plus 1        173            3.67\n",
      "820966    Martin Luther, J.I. Packer, O.R. Johnston                          The Bondage of the Will        322            4.17\n",
      "4532622                               Karen Hancock                                      The Enclave        492            3.82\n",
      "20444381                             Diana Gabaldon  Os tambores de outono - 1ª Parte (Outlander #4)       1048            3.99\n"
     ]
    }
   ],
   "source": [
    "print(books[[\"book_id\", \"author\", \"title\", \"num_pages\", \"average_rating\"]].sample(5, random_state=52).sort_values(\"book_id\").set_index(\"book_id\").to_string())"
   ]
  },
  {
   "cell_type": "code",
   "execution_count": 8,
   "id": "507063c3-58c2-4d27-b415-4695f05ae0b0",
   "metadata": {},
   "outputs": [],
   "source": [
    "interactions = pd.read_parquet(\"interactions.parquet\")"
   ]
  },
  {
   "cell_type": "markdown",
   "id": "1975129a-283c-4f61-800e-cad9515e6f5f",
   "metadata": {},
   "source": [
    "Можно оценить объём данных о взаимодействиях"
   ]
  },
  {
   "cell_type": "code",
   "execution_count": 9,
   "id": "92d745e7-5dfb-4fff-98a3-acfc422bed50",
   "metadata": {},
   "outputs": [
    {
     "name": "stdout",
     "output_type": "stream",
     "text": [
      "<class 'pandas.core.frame.DataFrame'>\n",
      "Index: 12890434 entries, 0 to 12914458\n",
      "Data columns (total 7 columns):\n",
      " #   Column       Dtype \n",
      "---  ------       ----- \n",
      " 0   user_id      object\n",
      " 1   book_id      int64 \n",
      " 2   started_at   object\n",
      " 3   read_at      object\n",
      " 4   is_read      bool  \n",
      " 5   rating       int64 \n",
      " 6   is_reviewed  bool  \n",
      "dtypes: bool(2), int64(2), object(3)\n",
      "memory usage: 614.7+ MB\n"
     ]
    }
   ],
   "source": [
    "interactions.info()"
   ]
  },
  {
   "cell_type": "markdown",
   "id": "2db1630c-a924-4c4f-9817-5c13591a5e85",
   "metadata": {},
   "source": [
    "Пример данных по взаимодействиям"
   ]
  },
  {
   "cell_type": "code",
   "execution_count": 10,
   "id": "2b1c5dfb-6900-49ad-b996-9b3e615ef9c4",
   "metadata": {},
   "outputs": [
    {
     "name": "stdout",
     "output_type": "stream",
     "text": [
      "                                           started_at     read_at  is_read  rating\n",
      "user_id                          book_id                                          \n",
      "0447747f44c0d8d1a08cf329fe253f29 10054335  2016-04-08  2016-04-20     True       3\n",
      "14432756ffba6357686f09e4ccc332bb 26252859  2016-05-27  2016-05-30     True       5\n",
      "46d6c8cf548d1c86abb671f42ba71b5e 960       2014-08-06  2016-10-29     True       5\n",
      "71c2b3714945af1f700f49953904c510 18492859  2014-10-09  2014-10-12     True       5\n",
      "7802bafdeac8abff23a72b9dd60b1dd1 18710190  2015-03-01  2015-05-05     True       4\n"
     ]
    }
   ],
   "source": [
    "print(interactions[[\"user_id\", \"book_id\", \"started_at\", \"read_at\", \"is_read\", \"rating\"]].sample(5, random_state=52).sort_values(\"user_id\").set_index([\"user_id\", \"book_id\"]).to_string())"
   ]
  },
  {
   "cell_type": "code",
   "execution_count": null,
   "id": "c70d302b",
   "metadata": {},
   "outputs": [],
   "source": [
    "interactions"
   ]
  },
  {
   "cell_type": "code",
   "execution_count": 21,
   "id": "11644cbe",
   "metadata": {},
   "outputs": [
    {
     "name": "stdout",
     "output_type": "stream",
     "text": [
      "количество пользователей 542657\n",
      "среднее количество прочитанных книг на пользователя 24.0\n",
      "доля прочитанных книг, у которых нет рейтинга 0.08\n"
     ]
    }
   ],
   "source": [
    "print('количество пользователей', interactions['user_id'].nunique())\n",
    "print('среднее количество прочитанных книг на пользователя',round(interactions.groupby('user_id')['is_read'].sum().mean(), 0))  \n",
    "print('доля прочитанных книг, у которых нет рейтинга',round(interactions.query('is_read == 1 and rating == 0')['is_read'].count() / interactions['is_read'].count(), 2))\n"
   ]
  },
  {
   "cell_type": "code",
   "execution_count": 22,
   "id": "1bff2a35",
   "metadata": {},
   "outputs": [
    {
     "data": {
      "text/plain": [
       "rating\n",
       "4    0.353707\n",
       "5    0.299434\n",
       "3    0.198956\n",
       "0    0.081585\n",
       "2    0.052061\n",
       "1    0.014256\n",
       "Name: proportion, dtype: float64"
      ]
     },
     "execution_count": 22,
     "metadata": {},
     "output_type": "execute_result"
    }
   ],
   "source": [
    "interactions['rating'].value_counts(normalize=True)"
   ]
  },
  {
   "cell_type": "code",
   "execution_count": null,
   "id": "f063f1be",
   "metadata": {},
   "outputs": [],
   "source": []
  },
  {
   "cell_type": "code",
   "execution_count": null,
   "id": "264e20da",
   "metadata": {},
   "outputs": [],
   "source": []
  },
  {
   "cell_type": "markdown",
   "id": "c4050b3d-c198-43be-a989-e99204b1725b",
   "metadata": {},
   "source": [
    "# EDA"
   ]
  },
  {
   "cell_type": "markdown",
   "id": "704ff053-4357-4b72-88fb-33d5edef8203",
   "metadata": {},
   "source": [
    "Посмотрим на данные о книгах, какие поля есть."
   ]
  },
  {
   "cell_type": "code",
   "execution_count": 11,
   "id": "ffba02f2-e81d-4c53-9e7e-f631a706849c",
   "metadata": {},
   "outputs": [
    {
     "data": {
      "text/html": [
       "<div>\n",
       "<style scoped>\n",
       "    .dataframe tbody tr th:only-of-type {\n",
       "        vertical-align: middle;\n",
       "    }\n",
       "\n",
       "    .dataframe tbody tr th {\n",
       "        vertical-align: top;\n",
       "    }\n",
       "\n",
       "    .dataframe thead th {\n",
       "        text-align: right;\n",
       "    }\n",
       "</style>\n",
       "<table border=\"1\" class=\"dataframe\">\n",
       "  <thead>\n",
       "    <tr style=\"text-align: right;\">\n",
       "      <th></th>\n",
       "      <th>2060927</th>\n",
       "      <th>1423029</th>\n",
       "      <th>988996</th>\n",
       "    </tr>\n",
       "  </thead>\n",
       "  <tbody>\n",
       "    <tr>\n",
       "      <th>book_id</th>\n",
       "      <td>13338887</td>\n",
       "      <td>12560661</td>\n",
       "      <td>2939815</td>\n",
       "    </tr>\n",
       "    <tr>\n",
       "      <th>author</th>\n",
       "      <td>Suzy Zail</td>\n",
       "      <td>H.M. Ward</td>\n",
       "      <td>أنيس منصور</td>\n",
       "    </tr>\n",
       "    <tr>\n",
       "      <th>title</th>\n",
       "      <td>The Wrong Boy</td>\n",
       "      <td>Satan's Stone (Demon Kissed, #4)</td>\n",
       "      <td>أرواح وأشباح</td>\n",
       "    </tr>\n",
       "    <tr>\n",
       "      <th>description</th>\n",
       "      <td>The story of a Jewish girl sent to Auschwitz w...</td>\n",
       "      <td>A single stone can heal the Sapphire Serum tha...</td>\n",
       "      <td>m ldhy yj`l lnsn qdr `ly 'n yqr' 'fkrk ... m l...</td>\n",
       "    </tr>\n",
       "    <tr>\n",
       "      <th>genre_and_votes</th>\n",
       "      <td>{'Historical-Historical Fiction': 112, 'Young ...</td>\n",
       "      <td>{'Fantasy-Paranormal': 18, 'Young Adult': 16, ...</td>\n",
       "      <td>{'Nonfiction': 11}</td>\n",
       "    </tr>\n",
       "    <tr>\n",
       "      <th>num_pages</th>\n",
       "      <td>256</td>\n",
       "      <td>268</td>\n",
       "      <td>301</td>\n",
       "    </tr>\n",
       "    <tr>\n",
       "      <th>average_rating</th>\n",
       "      <td>4.1</td>\n",
       "      <td>4.16</td>\n",
       "      <td>3.54</td>\n",
       "    </tr>\n",
       "    <tr>\n",
       "      <th>ratings_count</th>\n",
       "      <td>792</td>\n",
       "      <td>982</td>\n",
       "      <td>4392</td>\n",
       "    </tr>\n",
       "    <tr>\n",
       "      <th>text_reviews_count</th>\n",
       "      <td>107</td>\n",
       "      <td>44</td>\n",
       "      <td>245</td>\n",
       "    </tr>\n",
       "    <tr>\n",
       "      <th>publisher</th>\n",
       "      <td>Black Dog Books</td>\n",
       "      <td>Laree Bailey Press</td>\n",
       "      <td>dr lshrwq</td>\n",
       "    </tr>\n",
       "    <tr>\n",
       "      <th>publication_year</th>\n",
       "      <td>2012</td>\n",
       "      <td>2012</td>\n",
       "      <td>2009</td>\n",
       "    </tr>\n",
       "    <tr>\n",
       "      <th>country_code</th>\n",
       "      <td>US</td>\n",
       "      <td>US</td>\n",
       "      <td>US</td>\n",
       "    </tr>\n",
       "    <tr>\n",
       "      <th>language_code</th>\n",
       "      <td>eng</td>\n",
       "      <td>eng</td>\n",
       "      <td>ara</td>\n",
       "    </tr>\n",
       "    <tr>\n",
       "      <th>format</th>\n",
       "      <td>Paperback</td>\n",
       "      <td>Paperback</td>\n",
       "      <td>Paperback</td>\n",
       "    </tr>\n",
       "    <tr>\n",
       "      <th>is_ebook</th>\n",
       "      <td>False</td>\n",
       "      <td>False</td>\n",
       "      <td>False</td>\n",
       "    </tr>\n",
       "    <tr>\n",
       "      <th>isbn</th>\n",
       "      <td>174203165X</td>\n",
       "      <td>0615584012</td>\n",
       "      <td></td>\n",
       "    </tr>\n",
       "    <tr>\n",
       "      <th>isbn13</th>\n",
       "      <td>9781742031651</td>\n",
       "      <td>9780615584010</td>\n",
       "      <td></td>\n",
       "    </tr>\n",
       "    <tr>\n",
       "      <th>genre_and_votes_dict</th>\n",
       "      <td>{'Academic': None, 'Academic-Academia': None, ...</td>\n",
       "      <td>{'Academic': None, 'Academic-Academia': None, ...</td>\n",
       "      <td>{'Academic': None, 'Academic-Academia': None, ...</td>\n",
       "    </tr>\n",
       "    <tr>\n",
       "      <th>genre_and_votes_str</th>\n",
       "      <td>Historical-Historical Fiction 112, Young Adult...</td>\n",
       "      <td>Fantasy-Paranormal 18, Young Adult 16, Romance...</td>\n",
       "      <td>Nonfiction 11</td>\n",
       "    </tr>\n",
       "  </tbody>\n",
       "</table>\n",
       "</div>"
      ],
      "text/plain": [
       "                                                                2060927  \\\n",
       "book_id                                                        13338887   \n",
       "author                                                        Suzy Zail   \n",
       "title                                                     The Wrong Boy   \n",
       "description           The story of a Jewish girl sent to Auschwitz w...   \n",
       "genre_and_votes       {'Historical-Historical Fiction': 112, 'Young ...   \n",
       "num_pages                                                           256   \n",
       "average_rating                                                      4.1   \n",
       "ratings_count                                                       792   \n",
       "text_reviews_count                                                  107   \n",
       "publisher                                               Black Dog Books   \n",
       "publication_year                                                   2012   \n",
       "country_code                                                         US   \n",
       "language_code                                                       eng   \n",
       "format                                                        Paperback   \n",
       "is_ebook                                                          False   \n",
       "isbn                                                         174203165X   \n",
       "isbn13                                                    9781742031651   \n",
       "genre_and_votes_dict  {'Academic': None, 'Academic-Academia': None, ...   \n",
       "genre_and_votes_str   Historical-Historical Fiction 112, Young Adult...   \n",
       "\n",
       "                                                                1423029  \\\n",
       "book_id                                                        12560661   \n",
       "author                                                        H.M. Ward   \n",
       "title                                  Satan's Stone (Demon Kissed, #4)   \n",
       "description           A single stone can heal the Sapphire Serum tha...   \n",
       "genre_and_votes       {'Fantasy-Paranormal': 18, 'Young Adult': 16, ...   \n",
       "num_pages                                                           268   \n",
       "average_rating                                                     4.16   \n",
       "ratings_count                                                       982   \n",
       "text_reviews_count                                                   44   \n",
       "publisher                                            Laree Bailey Press   \n",
       "publication_year                                                   2012   \n",
       "country_code                                                         US   \n",
       "language_code                                                       eng   \n",
       "format                                                        Paperback   \n",
       "is_ebook                                                          False   \n",
       "isbn                                                         0615584012   \n",
       "isbn13                                                    9780615584010   \n",
       "genre_and_votes_dict  {'Academic': None, 'Academic-Academia': None, ...   \n",
       "genre_and_votes_str   Fantasy-Paranormal 18, Young Adult 16, Romance...   \n",
       "\n",
       "                                                                988996   \n",
       "book_id                                                         2939815  \n",
       "author                                                       أنيس منصور  \n",
       "title                                                      أرواح وأشباح  \n",
       "description           m ldhy yj`l lnsn qdr `ly 'n yqr' 'fkrk ... m l...  \n",
       "genre_and_votes                                      {'Nonfiction': 11}  \n",
       "num_pages                                                           301  \n",
       "average_rating                                                     3.54  \n",
       "ratings_count                                                      4392  \n",
       "text_reviews_count                                                  245  \n",
       "publisher                                                     dr lshrwq  \n",
       "publication_year                                                   2009  \n",
       "country_code                                                         US  \n",
       "language_code                                                       ara  \n",
       "format                                                        Paperback  \n",
       "is_ebook                                                          False  \n",
       "isbn                                                                     \n",
       "isbn13                                                                   \n",
       "genre_and_votes_dict  {'Academic': None, 'Academic-Academia': None, ...  \n",
       "genre_and_votes_str                                       Nonfiction 11  "
      ]
     },
     "execution_count": 11,
     "metadata": {},
     "output_type": "execute_result"
    }
   ],
   "source": [
    "books.sample(3).T"
   ]
  },
  {
   "cell_type": "markdown",
   "id": "31195f60-57e2-48f6-9f2d-6c485a79b75a",
   "metadata": {},
   "source": [
    "Посмотрим на данные о взаимодействиях пользователей с книгами."
   ]
  },
  {
   "cell_type": "code",
   "execution_count": 10,
   "id": "2f06d310-9a2d-4c56-89b7-926e8105b851",
   "metadata": {},
   "outputs": [
    {
     "data": {
      "text/plain": [
       "43312"
      ]
     },
     "execution_count": 10,
     "metadata": {},
     "output_type": "execute_result"
    }
   ],
   "source": [
    "books[\"book_id\"].nunique()"
   ]
  },
  {
   "cell_type": "code",
   "execution_count": 12,
   "id": "3289d3a3-28f3-49b2-badd-66f2d8f7c0a0",
   "metadata": {},
   "outputs": [
    {
     "data": {
      "image/png": "[encoded data removed]",
      "text/plain": [
       "<Figure size 1200x600 with 2 Axes>"
      ]
     },
     "metadata": {},
     "output_type": "display_data"
    }
   ],
   "source": [
    "# распределение книг по годам публикации\n",
    "\n",
    "fig, axs = plt.subplots(2, 1, figsize=(12, 6))\n",
    "\n",
    "ax = axs[0]\n",
    "books[\"publication_year\"].value_counts().sort_index().plot(kind=\"bar\", ax=ax)\n",
    "ax.tick_params(axis='x', labelsize=8)\n",
    "\n",
    "ax = axs[1]\n",
    "books.query(\"publication_year >= 1900 and publication_year <= 2025\")[\"publication_year\"].value_counts().sort_index().plot(kind=\"bar\", ax=ax)\n",
    "ax.tick_params(axis='x', labelsize=8)\n",
    "\n",
    "fig.tight_layout()"
   ]
  },
  {
   "cell_type": "markdown",
   "id": "bd4c285c-dc85-430e-965e-bfae06468cb3",
   "metadata": {},
   "source": [
    "# События по месяцам"
   ]
  },
  {
   "cell_type": "code",
   "execution_count": 13,
   "id": "a64f6bb4-ddf9-4573-a78f-a8616d32c89b",
   "metadata": {},
   "outputs": [],
   "source": [
    "from pandas.tseries.offsets import MonthEnd\n",
    "\n",
    "interactions[\"started_at_month\"] = pd.to_datetime(interactions[\"started_at\"]).dt.to_period('M').dt.to_timestamp().dt.date"
   ]
  },
  {
   "cell_type": "code",
   "execution_count": 14,
   "id": "7d24e57d-0d39-4691-bdc2-c7f152bbb86d",
   "metadata": {},
   "outputs": [],
   "source": [
    "interactions_by_month = interactions.groupby(\"started_at_month\").agg(events=(\"started_at\", \"count\"), users=(\"user_id\", \"nunique\")).reset_index()"
   ]
  },
  {
   "cell_type": "code",
   "execution_count": 15,
   "id": "290b4924-cdb4-45f8-83bb-34c9feef6ab3",
   "metadata": {},
   "outputs": [
    {
     "data": {
      "text/html": [
       "<div>\n",
       "<style scoped>\n",
       "    .dataframe tbody tr th:only-of-type {\n",
       "        vertical-align: middle;\n",
       "    }\n",
       "\n",
       "    .dataframe tbody tr th {\n",
       "        vertical-align: top;\n",
       "    }\n",
       "\n",
       "    .dataframe thead th {\n",
       "        text-align: right;\n",
       "    }\n",
       "</style>\n",
       "<table border=\"1\" class=\"dataframe\">\n",
       "  <thead>\n",
       "    <tr style=\"text-align: right;\">\n",
       "      <th></th>\n",
       "      <th>started_at_month</th>\n",
       "      <th>events</th>\n",
       "      <th>users</th>\n",
       "    </tr>\n",
       "  </thead>\n",
       "  <tbody>\n",
       "    <tr>\n",
       "      <th>0</th>\n",
       "      <td>2007-01-01</td>\n",
       "      <td>1993</td>\n",
       "      <td>1071</td>\n",
       "    </tr>\n",
       "    <tr>\n",
       "      <th>1</th>\n",
       "      <td>2007-02-01</td>\n",
       "      <td>201</td>\n",
       "      <td>135</td>\n",
       "    </tr>\n",
       "    <tr>\n",
       "      <th>2</th>\n",
       "      <td>2007-03-01</td>\n",
       "      <td>222</td>\n",
       "      <td>152</td>\n",
       "    </tr>\n",
       "    <tr>\n",
       "      <th>3</th>\n",
       "      <td>2007-04-01</td>\n",
       "      <td>201</td>\n",
       "      <td>135</td>\n",
       "    </tr>\n",
       "    <tr>\n",
       "      <th>4</th>\n",
       "      <td>2007-05-01</td>\n",
       "      <td>204</td>\n",
       "      <td>138</td>\n",
       "    </tr>\n",
       "    <tr>\n",
       "      <th>...</th>\n",
       "      <td>...</td>\n",
       "      <td>...</td>\n",
       "      <td>...</td>\n",
       "    </tr>\n",
       "    <tr>\n",
       "      <th>127</th>\n",
       "      <td>2017-08-01</td>\n",
       "      <td>202129</td>\n",
       "      <td>93040</td>\n",
       "    </tr>\n",
       "    <tr>\n",
       "      <th>128</th>\n",
       "      <td>2017-09-01</td>\n",
       "      <td>172187</td>\n",
       "      <td>82694</td>\n",
       "    </tr>\n",
       "    <tr>\n",
       "      <th>129</th>\n",
       "      <td>2017-10-01</td>\n",
       "      <td>108107</td>\n",
       "      <td>58076</td>\n",
       "    </tr>\n",
       "    <tr>\n",
       "      <th>130</th>\n",
       "      <td>2017-11-01</td>\n",
       "      <td>565</td>\n",
       "      <td>475</td>\n",
       "    </tr>\n",
       "    <tr>\n",
       "      <th>131</th>\n",
       "      <td>2017-12-01</td>\n",
       "      <td>34</td>\n",
       "      <td>34</td>\n",
       "    </tr>\n",
       "  </tbody>\n",
       "</table>\n",
       "<p>132 rows × 3 columns</p>\n",
       "</div>"
      ],
      "text/plain": [
       "    started_at_month  events  users\n",
       "0         2007-01-01    1993   1071\n",
       "1         2007-02-01     201    135\n",
       "2         2007-03-01     222    152\n",
       "3         2007-04-01     201    135\n",
       "4         2007-05-01     204    138\n",
       "..               ...     ...    ...\n",
       "127       2017-08-01  202129  93040\n",
       "128       2017-09-01  172187  82694\n",
       "129       2017-10-01  108107  58076\n",
       "130       2017-11-01     565    475\n",
       "131       2017-12-01      34     34\n",
       "\n",
       "[132 rows x 3 columns]"
      ]
     },
     "execution_count": 15,
     "metadata": {},
     "output_type": "execute_result"
    }
   ],
   "source": [
    "interactions_by_month"
   ]
  },
  {
   "cell_type": "code",
   "execution_count": 16,
   "id": "b0523dde-3788-426a-ae32-08d557d65124",
   "metadata": {},
   "outputs": [
    {
     "data": {
      "image/png": "[encoded data removed]",
      "text/plain": [
       "<Figure size 1200x600 with 2 Axes>"
      ]
     },
     "metadata": {},
     "output_type": "display_data"
    }
   ],
   "source": [
    "# распределение взаимодействий по годам\n",
    "\n",
    "fig, axs = plt.subplots(2, 1, figsize=(12, 6))\n",
    "\n",
    "ax = axs[0]\n",
    "ax.plot(interactions_by_month[\"started_at_month\"], interactions_by_month[\"events\"])\n",
    "# ax.tick_params(axis='x', labelsize=8)\n",
    "ax.set_title(\"#events by months\")\n",
    "\n",
    "ax = axs[1]\n",
    "ax.plot(interactions_by_month[\"started_at_month\"], interactions_by_month[\"users\"])\n",
    "# ax.tick_params(axis='x', labelsize=8)\n",
    "ax.set_title(\"#users by months\")\n",
    "\n",
    "fig.tight_layout()"
   ]
  },
  {
   "cell_type": "markdown",
   "id": "5007ba55-80ce-4e9a-a72a-3586d0328bb8",
   "metadata": {},
   "source": [
    "# Преобработка"
   ]
  },
  {
   "cell_type": "markdown",
   "id": "74dd91e9-6298-4dfb-8e93-41d8d6f0af6c",
   "metadata": {},
   "source": [
    "Примем новые именования:\n",
    "- books -> items (более обобщённое название)\n",
    "- interactions -> events (несколько короче, удобнее в коде)"
   ]
  },
  {
   "cell_type": "code",
   "execution_count": 16,
   "id": "a97795e4-652c-4d87-a2c8-01d7756ee9af",
   "metadata": {},
   "outputs": [],
   "source": [
    "items = books.copy()\n",
    "events = interactions.copy()"
   ]
  },
  {
   "cell_type": "code",
   "execution_count": 17,
   "id": "d44de218-ed47-4b12-aef8-c0161f356002",
   "metadata": {},
   "outputs": [],
   "source": [
    "del books\n",
    "del interactions"
   ]
  },
  {
   "cell_type": "code",
   "execution_count": 18,
   "id": "2802d95e-314e-4802-851d-bb5d04e5c84b",
   "metadata": {},
   "outputs": [],
   "source": [
    "# оставим события только до ноября 2017\n",
    "\n",
    "event_cutoff_date = pd.to_datetime(\"2017-11-01\").date()\n",
    "events = events.query(\"started_at < @event_cutoff_date and read_at < @event_cutoff_date\").copy()"
   ]
  },
  {
   "cell_type": "code",
   "execution_count": null,
   "id": "ce75ec96-1309-441d-802f-d60a584d4546",
   "metadata": {},
   "outputs": [],
   "source": []
  },
  {
   "cell_type": "markdown",
   "id": "9fb82342-c874-495f-8c0f-e2c6c1b68e2d",
   "metadata": {},
   "source": [
    "# Ваш код здесь"
   ]
  },
  {
   "cell_type": "code",
   "execution_count": null,
   "id": "4e465d92-e2c9-4b29-9fa6-de97ec1052ac",
   "metadata": {},
   "outputs": [],
   "source": []
  },
  {
   "cell_type": "markdown",
   "id": "b707df95-b815-4002-814f-77c90b848688",
   "metadata": {},
   "source": [
    "# Сохранение результатов"
   ]
  },
  {
   "cell_type": "code",
   "execution_count": 19,
   "id": "5281284b-2574-43ca-8ddc-e8f1b2e4cac6",
   "metadata": {},
   "outputs": [],
   "source": [
    "items.to_parquet(\"items.par\")"
   ]
  },
  {
   "cell_type": "code",
   "execution_count": 20,
   "id": "b6579a5d-c7b7-4785-abd8-69f63f48151d",
   "metadata": {},
   "outputs": [],
   "source": [
    "events.to_parquet(\"events.par\")"
   ]
  },
  {
   "cell_type": "code",
   "execution_count": null,
   "id": "15fa321c-a44c-4e1d-869d-270afba261d0",
   "metadata": {},
   "outputs": [],
   "source": []
  }
 ],
 "metadata": {
  "kernelspec": {
   "display_name": "Python 3",
   "language": "python",
   "name": "python3"
  },
  "language_info": {
   "codemirror_mode": {
    "name": "ipython",
    "version": 3
   },
   "file_extension": ".py",
   "mimetype": "text/x-python",
   "name": "python",
   "nbconvert_exporter": "python",
   "pygments_lexer": "ipython3",
   "version": "3.10.12"
  }
 },
 "nbformat": 4,
 "nbformat_minor": 5
}
